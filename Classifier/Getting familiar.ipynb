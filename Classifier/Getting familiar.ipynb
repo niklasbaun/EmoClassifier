{
 "cells": [
  {
   "cell_type": "code",
   "id": "initial_id",
   "metadata": {
    "collapsed": true,
    "ExecuteTime": {
     "end_time": "2025-06-25T19:42:12.197603Z",
     "start_time": "2025-06-25T19:42:09.862512Z"
    }
   },
   "source": [
    "import numpy as np\n",
    "import pandas as pd\n",
    "import torch"
   ],
   "outputs": [],
   "execution_count": 1
  },
  {
   "metadata": {
    "ExecuteTime": {
     "end_time": "2025-06-25T19:42:15.874932Z",
     "start_time": "2025-06-25T19:42:15.861529Z"
    }
   },
   "cell_type": "code",
   "source": [
    "data = pd.read_csv(\"../track-a.csv\")\n",
    "data.head()\n",
    "data.tail()\n",
    "data.describe()"
   ],
   "id": "1994b90d15c68c3a",
   "outputs": [
    {
     "data": {
      "text/plain": [
       "False"
      ]
     },
     "execution_count": 2,
     "metadata": {},
     "output_type": "execute_result"
    }
   ],
   "execution_count": 2
  },
  {
   "metadata": {
    "ExecuteTime": {
     "end_time": "2025-06-12T14:56:16.561766Z",
     "start_time": "2025-06-12T14:56:16.550749Z"
    }
   },
   "cell_type": "code",
   "source": [
    "#look at stuff\n",
    "#find null values\n",
    "data.isna().sum()\n",
    "data.columns"
   ],
   "id": "8ff3d1d1e0033cc8",
   "outputs": [
    {
     "data": {
      "text/plain": [
       "Index(['id', 'text', 'anger', 'fear', 'joy', 'sadness', 'surprise'], dtype='object')"
      ]
     },
     "execution_count": 4,
     "metadata": {},
     "output_type": "execute_result"
    }
   ],
   "execution_count": 4
  },
  {
   "metadata": {
    "ExecuteTime": {
     "end_time": "2025-06-12T14:56:42.283984Z",
     "start_time": "2025-06-12T14:56:42.238758Z"
    }
   },
   "cell_type": "code",
   "source": [
    "#count occurance of words\n",
    "word_count = data['text'].str.split(expand=True).stack().value_counts()\n",
    "print(word_count.head(10))\n"
   ],
   "id": "381a1012c7f9b34e",
   "outputs": [
    {
     "name": "stdout",
     "output_type": "stream",
     "text": [
      "Top 10 most common words:\n",
      "my       2048\n",
      "I        1695\n",
      "the      1583\n",
      "and      1388\n",
      "to       1139\n",
      "         ... \n",
      "even       54\n",
      "hands      54\n",
      "feel       54\n",
      "off        52\n",
      "''         51\n",
      "Name: count, Length: 100, dtype: int64\n"
     ]
    }
   ],
   "execution_count": 6
  }
 ],
 "metadata": {
  "kernelspec": {
   "display_name": "Python 3 (ipykernel)",
   "language": "python",
   "name": "python3"
  },
  "language_info": {
   "codemirror_mode": {
    "name": "ipython",
    "version": 2
   },
   "file_extension": ".py",
   "mimetype": "text/x-python",
   "name": "python",
   "nbconvert_exporter": "python",
   "pygments_lexer": "ipython2",
   "version": "2.7.6"
  }
 },
 "nbformat": 4,
 "nbformat_minor": 5
}
