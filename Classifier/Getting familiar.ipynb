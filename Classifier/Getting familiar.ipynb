{
 "cells": [
  {
   "cell_type": "code",
   "id": "initial_id",
   "metadata": {
    "collapsed": true,
    "ExecuteTime": {
     "end_time": "2025-06-12T14:56:07.791249Z",
     "start_time": "2025-06-12T14:56:06.903915Z"
    }
   },
   "source": [
    "import numpy as np\n",
    "import pandas as pd"
   ],
   "outputs": [],
   "execution_count": 2
  },
  {
   "metadata": {
    "ExecuteTime": {
     "end_time": "2025-06-12T14:56:13.028289Z",
     "start_time": "2025-06-12T14:56:12.965513Z"
    }
   },
   "cell_type": "code",
   "source": [
    "data = pd.read_csv(\"../track-a.csv\")\n",
    "data.head()\n",
    "data.tail()\n",
    "data.describe()"
   ],
   "id": "1994b90d15c68c3a",
   "outputs": [
    {
     "data": {
      "text/plain": [
       "             anger         fear          joy      sadness     surprise\n",
       "count  2768.000000  2768.000000  2768.000000  2768.000000  2768.000000\n",
       "mean      0.120303     0.582009     0.243497     0.317197     0.303107\n",
       "std       0.325375     0.493318     0.429270     0.465469     0.459684\n",
       "min       0.000000     0.000000     0.000000     0.000000     0.000000\n",
       "25%       0.000000     0.000000     0.000000     0.000000     0.000000\n",
       "50%       0.000000     1.000000     0.000000     0.000000     0.000000\n",
       "75%       0.000000     1.000000     0.000000     1.000000     1.000000\n",
       "max       1.000000     1.000000     1.000000     1.000000     1.000000"
      ],
      "text/html": [
       "<div>\n",
       "<style scoped>\n",
       "    .dataframe tbody tr th:only-of-type {\n",
       "        vertical-align: middle;\n",
       "    }\n",
       "\n",
       "    .dataframe tbody tr th {\n",
       "        vertical-align: top;\n",
       "    }\n",
       "\n",
       "    .dataframe thead th {\n",
       "        text-align: right;\n",
       "    }\n",
       "</style>\n",
       "<table border=\"1\" class=\"dataframe\">\n",
       "  <thead>\n",
       "    <tr style=\"text-align: right;\">\n",
       "      <th></th>\n",
       "      <th>anger</th>\n",
       "      <th>fear</th>\n",
       "      <th>joy</th>\n",
       "      <th>sadness</th>\n",
       "      <th>surprise</th>\n",
       "    </tr>\n",
       "  </thead>\n",
       "  <tbody>\n",
       "    <tr>\n",
       "      <th>count</th>\n",
       "      <td>2768.000000</td>\n",
       "      <td>2768.000000</td>\n",
       "      <td>2768.000000</td>\n",
       "      <td>2768.000000</td>\n",
       "      <td>2768.000000</td>\n",
       "    </tr>\n",
       "    <tr>\n",
       "      <th>mean</th>\n",
       "      <td>0.120303</td>\n",
       "      <td>0.582009</td>\n",
       "      <td>0.243497</td>\n",
       "      <td>0.317197</td>\n",
       "      <td>0.303107</td>\n",
       "    </tr>\n",
       "    <tr>\n",
       "      <th>std</th>\n",
       "      <td>0.325375</td>\n",
       "      <td>0.493318</td>\n",
       "      <td>0.429270</td>\n",
       "      <td>0.465469</td>\n",
       "      <td>0.459684</td>\n",
       "    </tr>\n",
       "    <tr>\n",
       "      <th>min</th>\n",
       "      <td>0.000000</td>\n",
       "      <td>0.000000</td>\n",
       "      <td>0.000000</td>\n",
       "      <td>0.000000</td>\n",
       "      <td>0.000000</td>\n",
       "    </tr>\n",
       "    <tr>\n",
       "      <th>25%</th>\n",
       "      <td>0.000000</td>\n",
       "      <td>0.000000</td>\n",
       "      <td>0.000000</td>\n",
       "      <td>0.000000</td>\n",
       "      <td>0.000000</td>\n",
       "    </tr>\n",
       "    <tr>\n",
       "      <th>50%</th>\n",
       "      <td>0.000000</td>\n",
       "      <td>1.000000</td>\n",
       "      <td>0.000000</td>\n",
       "      <td>0.000000</td>\n",
       "      <td>0.000000</td>\n",
       "    </tr>\n",
       "    <tr>\n",
       "      <th>75%</th>\n",
       "      <td>0.000000</td>\n",
       "      <td>1.000000</td>\n",
       "      <td>0.000000</td>\n",
       "      <td>1.000000</td>\n",
       "      <td>1.000000</td>\n",
       "    </tr>\n",
       "    <tr>\n",
       "      <th>max</th>\n",
       "      <td>1.000000</td>\n",
       "      <td>1.000000</td>\n",
       "      <td>1.000000</td>\n",
       "      <td>1.000000</td>\n",
       "      <td>1.000000</td>\n",
       "    </tr>\n",
       "  </tbody>\n",
       "</table>\n",
       "</div>"
      ]
     },
     "execution_count": 3,
     "metadata": {},
     "output_type": "execute_result"
    }
   ],
   "execution_count": 3
  },
  {
   "metadata": {
    "ExecuteTime": {
     "end_time": "2025-06-12T14:56:16.561766Z",
     "start_time": "2025-06-12T14:56:16.550749Z"
    }
   },
   "cell_type": "code",
   "source": [
    "#look at stuff\n",
    "#find null values\n",
    "data.isna().sum()\n",
    "data.columns"
   ],
   "id": "8ff3d1d1e0033cc8",
   "outputs": [
    {
     "data": {
      "text/plain": [
       "Index(['id', 'text', 'anger', 'fear', 'joy', 'sadness', 'surprise'], dtype='object')"
      ]
     },
     "execution_count": 4,
     "metadata": {},
     "output_type": "execute_result"
    }
   ],
   "execution_count": 4
  },
  {
   "metadata": {
    "ExecuteTime": {
     "end_time": "2025-06-12T14:56:42.283984Z",
     "start_time": "2025-06-12T14:56:42.238758Z"
    }
   },
   "cell_type": "code",
   "source": [
    "#count occurance of words\n",
    "word_count = data['text'].str.split(expand=True).stack().value_counts()\n",
    "print(word_count.head(10))\n"
   ],
   "id": "381a1012c7f9b34e",
   "outputs": [
    {
     "name": "stdout",
     "output_type": "stream",
     "text": [
      "Top 10 most common words:\n",
      "my       2048\n",
      "I        1695\n",
      "the      1583\n",
      "and      1388\n",
      "to       1139\n",
      "         ... \n",
      "even       54\n",
      "hands      54\n",
      "feel       54\n",
      "off        52\n",
      "''         51\n",
      "Name: count, Length: 100, dtype: int64\n"
     ]
    }
   ],
   "execution_count": 6
  }
 ],
 "metadata": {
  "kernelspec": {
   "display_name": "Python 3",
   "language": "python",
   "name": "python3"
  },
  "language_info": {
   "codemirror_mode": {
    "name": "ipython",
    "version": 2
   },
   "file_extension": ".py",
   "mimetype": "text/x-python",
   "name": "python",
   "nbconvert_exporter": "python",
   "pygments_lexer": "ipython2",
   "version": "2.7.6"
  }
 },
 "nbformat": 4,
 "nbformat_minor": 5
}
